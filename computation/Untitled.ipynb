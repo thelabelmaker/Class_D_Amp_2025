{
 "cells": [
  {
   "cell_type": "code",
   "execution_count": 70,
   "id": "87521ea0-fa05-4bb8-99ca-44d8c4803e8b",
   "metadata": {},
   "outputs": [
    {
     "name": "stdout",
     "output_type": "stream",
     "text": [
      "%pylab is deprecated, use %matplotlib inline and import the required libraries.\n",
      "Populating the interactive namespace from numpy and matplotlib\n"
     ]
    }
   ],
   "source": [
    "import numpy as np\n",
    "import matplotlib.pyplot as plt\n",
    "import math\n",
    "import scipy.signal\n",
    "%pylab inline\n",
    "import sk_dsp_comm.sigsys as ss\n",
    "import sk_dsp_comm.fir_design_helper as fir_d\n",
    "import sk_dsp_comm.iir_design_helper as iir_d\n",
    "import sk_dsp_comm.multirate_helper as mrh\n",
    "import scipy.signal as signal\n",
    "from IPython.display import Audio, display\n",
    "from IPython.display import Image, SVG\n",
    "%config InlineBackend.figure_formats=['svg'] # SVG inline viewing"
   ]
  },
  {
   "cell_type": "code",
   "execution_count": 2,
   "id": "e74afa81-707d-44fb-b84b-e7b748a0dd24",
   "metadata": {},
   "outputs": [
    {
     "data": {
      "text/plain": [
       "512.0"
      ]
     },
     "execution_count": 2,
     "metadata": {},
     "output_type": "execute_result"
    }
   ],
   "source": [
    "fs_in = 44100\n",
    "up_PWM = 4\n",
    "b_PWM = 5\n",
    "fs_out = (2**(b_PWM+up_PWM))*fs_in\n",
    "M = fs_out/fs_in\n",
    "M"
   ]
  },
  {
   "cell_type": "code",
   "execution_count": 129,
   "id": "05b5f215-be87-4784-8027-3046022e3179",
   "metadata": {},
   "outputs": [],
   "source": [
    "#b_lpf, a_lpf, sos_lpf = iir_d.IIR_bpf(2, 10, 1700, 17000, 0.1, 20, fs=fs_in, ftype='butter', status=True)\n",
    "\n",
    "a_lpf = [1,\n",
    "1.566015792285060,\n",
    "-0.613101365421547,\n",
    "]\n",
    "b_lpf = [0.011771393284123,\n",
    "0.023542786568246,\n",
    "0.011771393284123,\n",
    "]\n",
    "\n",
    "#b_hpf, a_hpf, sos_hpf = iir_d.IIR_bpf(170, 1700, 20000, 20500, 0.1, 20,\n",
    "#fs=fs_in, ftype='butter', status=True)\n",
    "\n",
    "b_hpf = [0.794779289426650,\n",
    "-1.589558578853300,\n",
    "0.794779289426650,\n",
    "\n",
    "]\n",
    "a_hpf = [1,\n",
    "1.566015792285060,\n",
    "-0.613101365421547,\n",
    "]\n",
    "sos_hpf = signal.butter(2, 1700, btype='high', analog=False, output='sos', fs=fs_in)\n",
    "\n",
    "sos_lpf = signal.butter(2, 1700/math.sqrt(3), btype='low', analog=False, output='sos', fs=fs_in)\n",
    "\n",
    "\n"
   ]
  },
  {
   "cell_type": "code",
   "execution_count": 113,
   "id": "5aa955de",
   "metadata": {},
   "outputs": [
    {
     "data": {
      "text/plain": [
       "array([[ 1.59709002e-04,  3.19418004e-04,  1.59709002e-04,\n",
       "         1.00000000e+00, -1.58942073e+00,  6.37210024e-01],\n",
       "       [ 1.00000000e+00,  2.00000000e+00,  1.00000000e+00,\n",
       "         1.00000000e+00, -1.77839021e+00,  8.31861264e-01]])"
      ]
     },
     "execution_count": 113,
     "metadata": {},
     "output_type": "execute_result"
    }
   ],
   "source": [
    "sos_lpf"
   ]
  }
 ],
 "metadata": {
  "kernelspec": {
   "display_name": "venv",
   "language": "python",
   "name": "python3"
  },
  "language_info": {
   "codemirror_mode": {
    "name": "ipython",
    "version": 3
   },
   "file_extension": ".py",
   "mimetype": "text/x-python",
   "name": "python",
   "nbconvert_exporter": "python",
   "pygments_lexer": "ipython3",
   "version": "3.13.3"
  }
 },
 "nbformat": 4,
 "nbformat_minor": 5
}

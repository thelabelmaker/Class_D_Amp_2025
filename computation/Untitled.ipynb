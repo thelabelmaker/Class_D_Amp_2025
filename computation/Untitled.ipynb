{
 "cells": [
  {
   "cell_type": "code",
   "execution_count": 2,
   "id": "87521ea0-fa05-4bb8-99ca-44d8c4803e8b",
   "metadata": {},
   "outputs": [],
   "source": [
    "import numpy as np\n",
    "import matplotlib.pyplot as plt\n",
    "import math"
   ]
  },
  {
   "cell_type": "code",
   "execution_count": null,
   "id": "e74afa81-707d-44fb-b84b-e7b748a0dd24",
   "metadata": {},
   "outputs": [],
   "source": [
    "#https://article.nadiapub.com/IJSIP/vol6_no5/24.pdf\n",
    "\n",
    "def QSNR(OSR, L, M):\n",
    "    return 10*np.log10() + "
   ]
  },
  {
   "cell_type": "code",
   "execution_count": null,
   "id": "05b5f215-be87-4784-8027-3046022e3179",
   "metadata": {},
   "outputs": [],
   "source": [
    "OSR = 16\n",
    "L = 4\n"
   ]
  }
 ],
 "metadata": {
  "kernelspec": {
   "display_name": "Python 3 (ipykernel)",
   "language": "python",
   "name": "python3"
  },
  "language_info": {
   "codemirror_mode": {
    "name": "ipython",
    "version": 3
   },
   "file_extension": ".py",
   "mimetype": "text/x-python",
   "name": "python",
   "nbconvert_exporter": "python",
   "pygments_lexer": "ipython3",
   "version": "3.13.2"
  }
 },
 "nbformat": 4,
 "nbformat_minor": 5
}
